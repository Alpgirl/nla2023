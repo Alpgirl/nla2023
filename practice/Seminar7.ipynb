{
  "nbformat": 4,
  "nbformat_minor": 0,
  "metadata": {
    "colab": {
      "provenance": []
    },
    "kernelspec": {
      "name": "python3",
      "display_name": "Python 3"
    },
    "language_info": {
      "name": "python"
    }
  },
  "cells": [
    {
      "cell_type": "markdown",
      "source": [
        "# Computation of matrix determinant (special case)\n",
        "\n",
        "$$M = D + uv^T$$\n",
        "\n",
        "$D$ - diagonal, $u,v$ - vectors.\n",
        "\n",
        "We would like to compute determinant of $M$"
      ],
      "metadata": {
        "id": "hiNXpwg8Ps1l"
      }
    },
    {
      "cell_type": "markdown",
      "source": [
        "## Schur complement and its use\n",
        "\n",
        "![schur](https://wikimedia.org/api/rest_v1/media/math/render/svg/58a13e28c3c997eef24f6a5da0079deade54f087)\n",
        "\n",
        "$$det(M) = det\\begin{pmatrix}A & B \\\\ 0 & D\\end{pmatrix} = det(A)det(D)$$\n",
        "\n",
        "$$det(M) = det(A)det(D - CA^{-1}B) = det(D)det(A - B D^{-1}C)$$"
      ],
      "metadata": {
        "id": "3MwFwqBQQSu0"
      }
    },
    {
      "cell_type": "markdown",
      "source": [
        "## How to use this property\n",
        "$$det(M) = det\\begin{pmatrix}I_n & B \\\\ C & I_m\\end{pmatrix} = det(I_m - CB) = det(I_n - BC)$$\n",
        "\n",
        "Suppose $B,C$ - column and row: $B = u$, $C = v^T$\n",
        "\n",
        "$$det(M) = det(I_n + uv^T) = det(I_1 + v^Tu) = 1 + v^Tu$$\n",
        "\n",
        "$$det(D + uv^T) = det(D(I + D^{-1}uv^T)) = det(D)(1 + v^TD^{-1}u)$$"
      ],
      "metadata": {
        "id": "KgP3v_ClVI2t"
      }
    },
    {
      "cell_type": "code",
      "source": [
        "def solve_2(a,b,c):\n",
        "  D = b**2 - 4 * a * c\n",
        "  return 1/(2*a)*(-b + np.sqrt(D)), 1/(2*a)*(-b - np.sqrt(D))"
      ],
      "metadata": {
        "id": "FkOYwNGCYTUh"
      },
      "execution_count": null,
      "outputs": []
    },
    {
      "cell_type": "code",
      "source": [
        "def devide_and_conquer(A):\n",
        "  n = A.shape[0]\n",
        "  if n == 1:\n",
        "    return A[0]\n",
        "  else:\n",
        "    n_sub = n // 2\n",
        "    D1 = devide_and_conquer(A[:n_sub,:n_sub])\n",
        "    D2 = devide_and_conquer(A[n_sub:,n_sub:])\n",
        "    b = A[n_sub,n_sub-1]\n",
        "    D1[-1] -= b\n",
        "    D2[0] -= b\n",
        "    l1,l2 = solve_2(1,-(D1[-1]+D2[0]+2*b),D1[-1]*D2[0] + b * (D1[-1]+D2[0]))\n",
        "    D1[-1] = min(l1,l2)\n",
        "    D2[0] = max(l1,l2)\n",
        "    return np.concatenate([D1,D2])"
      ],
      "metadata": {
        "id": "flHuVovIWn4z"
      },
      "execution_count": null,
      "outputs": []
    },
    {
      "cell_type": "code",
      "execution_count": null,
      "metadata": {
        "id": "zMp8OtWSMlIh"
      },
      "outputs": [],
      "source": [
        "import numpy as np"
      ]
    },
    {
      "cell_type": "code",
      "source": [
        "A = np.array([[2.,1.,0.,0.],[1.,3.,1.,0.],[0.,1.,4.,1.],[0.,0.,1.,5.]])\n",
        "A"
      ],
      "metadata": {
        "colab": {
          "base_uri": "https://localhost:8080/"
        },
        "id": "k3fQZGEXMpKG",
        "outputId": "4f14eb62-17ef-4dc2-b1d6-448e60e23968"
      },
      "execution_count": null,
      "outputs": [
        {
          "output_type": "execute_result",
          "data": {
            "text/plain": [
              "array([[2., 1., 0., 0.],\n",
              "       [1., 3., 1., 0.],\n",
              "       [0., 1., 4., 1.],\n",
              "       [0., 0., 1., 5.]])"
            ]
          },
          "metadata": {},
          "execution_count": 54
        }
      ]
    },
    {
      "cell_type": "code",
      "source": [
        "np.linalg.eigh(A)[0]"
      ],
      "metadata": {
        "colab": {
          "base_uri": "https://localhost:8080/"
        },
        "id": "a7CAqXgRM1YJ",
        "outputId": "8dfdc6e6-9224-4c41-b810-f23fb1eb45e7"
      },
      "execution_count": null,
      "outputs": [
        {
          "output_type": "execute_result",
          "data": {
            "text/plain": [
              "array([1.25471876, 2.82271708, 4.17728292, 5.74528124])"
            ]
          },
          "metadata": {},
          "execution_count": 55
        }
      ]
    },
    {
      "cell_type": "code",
      "source": [
        "devide_and_conquer(A)"
      ],
      "metadata": {
        "colab": {
          "base_uri": "https://localhost:8080/"
        },
        "id": "flv5CIL7dd6S",
        "outputId": "b6d57d7e-257d-477d-85e5-ce4f84cb122e"
      },
      "execution_count": null,
      "outputs": [
        {
          "output_type": "execute_result",
          "data": {
            "text/plain": [
              "array([1.38196601, 2.49305808, 4.50694192, 5.61803399])"
            ]
          },
          "metadata": {},
          "execution_count": 56
        }
      ]
    },
    {
      "cell_type": "code",
      "source": [],
      "metadata": {
        "id": "bGmbmjryghID"
      },
      "execution_count": null,
      "outputs": []
    }
  ]
}