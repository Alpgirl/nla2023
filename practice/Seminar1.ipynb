{
  "nbformat": 4,
  "nbformat_minor": 0,
  "metadata": {
    "colab": {
      "provenance": []
    },
    "kernelspec": {
      "name": "python3",
      "display_name": "Python 3"
    },
    "language_info": {
      "name": "python"
    }
  },
  "cells": [
    {
      "cell_type": "markdown",
      "source": [
        "# Derivative of function with respect to vector argument"
      ],
      "metadata": {
        "id": "CbsE7WlICdu0"
      }
    },
    {
      "cell_type": "markdown",
      "source": [
        "$f(x)$ - function returning scalar value taking vector input $x$\n",
        "\n",
        "We want to find: $\\frac{d}{dy}f(y) = (\\frac{d}{dy_0}f(y)...\\frac{d}{dy_i}f(y)...\\frac{d}{dy_{N-1}}f(y))$, here $0 \\leq i \\leq N-1$, $N$ - size of the vector.\n",
        "\n",
        "If $y$ is a vector function of some vector $x$: $y(x)$\n",
        "\n",
        "And we want to find: $$\\frac{d}{dx}f(y(x)) = \\frac{d}{dx_j} f(y(x)) = \\sum\\limits_i\\frac{df}{dy_i}\\frac{dy_i}{dx_j} = \\left(\\frac{d}{dy_0}f(y(x))...\\frac{d}{dy_{N-1}}f(y(x))\\right) \\begin{pmatrix}\\frac{d}{dx_0}y_0 & ... & \\frac{d}{dx_{N-1}}y_0 \\\\ ... & ... & ... \\\\ \\frac{d}{dx_{0}}y_{N-1} & ... & \\frac{d}{dx_{N-1}}y_{N-1}\\end{pmatrix} = \\frac{df}{dy}\\frac{dy}{dx}$$\n",
        "\n",
        "## Let's try to solve following task:\n",
        "\n",
        "Find the derivative $\\frac{d}{dx}f(x)$\n",
        "\n",
        "### SubTask 1 :\n",
        "\n",
        "$f(x) = Ax - b$\n",
        "\n",
        "### SubTask 2:\n",
        "\n",
        "$f(x) = \\|x\\|_2^2$\n",
        "\n",
        "### SubTask 3:\n",
        "\n",
        "$f(x) = \\|Ax-b\\|^2_2$\n",
        "\n",
        "### Subtask 4:\n",
        "\n",
        "$f(x) = \\|Ax-b\\|^2_2 + \\alpha \\|x\\|_2^2$"
      ],
      "metadata": {
        "id": "Lfrf-Wn2EZmb"
      }
    },
    {
      "cell_type": "markdown",
      "source": [
        "# Under-determined problem solving with l1 regularization"
      ],
      "metadata": {
        "id": "aPYIdUi_4tT1"
      }
    },
    {
      "cell_type": "markdown",
      "source": [
        "![](https://drive.google.com/uc?export=view&id=1LImALY7lZnF5hryguEKgALT10JWyTmlc)\n"
      ],
      "metadata": {
        "id": "IZLMZkCwH4ur"
      }
    },
    {
      "cell_type": "markdown",
      "source": [
        "![](https://drive.google.com/uc?export=view&id=1r-7Fj4ranAQxCkYBNVxNYoPxKBx3dfki)"
      ],
      "metadata": {
        "id": "2utI8CnEI3Eb"
      }
    },
    {
      "cell_type": "markdown",
      "source": [
        "![](https://drive.google.com/uc?export=view&id=130bZFiTJ43eO-65B8CP6lsiv3NffOVVG)"
      ],
      "metadata": {
        "id": "wHumGqrwJA5F"
      }
    },
    {
      "cell_type": "markdown",
      "source": [
        "# Application to standard problem"
      ],
      "metadata": {
        "id": "rpkfpPep4sP0"
      }
    },
    {
      "cell_type": "markdown",
      "source": [
        "![](https://drive.google.com/uc?export=view&id=1BH0jrR-yuzby_AwPlqzQYF0YoC6MZh20)"
      ],
      "metadata": {
        "id": "Ft78WQpc5w52"
      }
    },
    {
      "cell_type": "markdown",
      "source": [
        "![](https://drive.google.com/uc?export=view&id=1JWadh_BlwTcqxYfakZ8lknZYKjTTkk47)"
      ],
      "metadata": {
        "id": "UFwMMWKK_IYO"
      }
    },
    {
      "cell_type": "code",
      "source": [
        "from jax import numpy as jnp"
      ],
      "metadata": {
        "id": "xOyfAgWEe_Lr"
      },
      "execution_count": null,
      "outputs": []
    },
    {
      "cell_type": "markdown",
      "source": [
        "![](https://drive.google.com/uc?export=view&id=1j7JFGPEquuMPBda1yrCsdJr3As0ezi-Q)"
      ],
      "metadata": {
        "id": "Zily0g8l_TLd"
      }
    },
    {
      "cell_type": "code",
      "execution_count": null,
      "metadata": {
        "id": "wR1UuYvQCZ5_"
      },
      "outputs": [],
      "source": [
        "import numpy as np\n",
        "from scipy.optimize import minimize"
      ]
    },
    {
      "cell_type": "code",
      "source": [
        "X = np.random.uniform(size=(5,5))\n",
        "y = np.random.uniform(size=(5))\n",
        "w_hat = np.linalg.inv(X) @ y\n",
        "w_hat"
      ],
      "metadata": {
        "id": "lvcjp0HpJ7h4",
        "colab": {
          "base_uri": "https://localhost:8080/"
        },
        "outputId": "b3b88717-04a5-4067-9068-44274b59d92b"
      },
      "execution_count": null,
      "outputs": [
        {
          "output_type": "execute_result",
          "data": {
            "text/plain": [
              "array([ 0.02118832,  0.34455939,  1.21204   , -0.98028037, -0.33646532])"
            ]
          },
          "metadata": {},
          "execution_count": 76
        }
      ]
    },
    {
      "cell_type": "code",
      "source": [
        "def f_l1(w,alpha=0.0):\n",
        "  return ((y - X @ w) ** 2).sum() + alpha * np.abs(w).sum()"
      ],
      "metadata": {
        "id": "ZrwUWR4jKUva"
      },
      "execution_count": null,
      "outputs": []
    },
    {
      "cell_type": "code",
      "source": [
        "res_l1 = minimize(f_l1,np.zeros_like(w_hat),tol=1e-10)\n",
        "np.linalg.norm(y - X @ res_l1.x)"
      ],
      "metadata": {
        "colab": {
          "base_uri": "https://localhost:8080/"
        },
        "id": "pMM5_FO9LmEc",
        "outputId": "d0670fa3-4808-4ff1-d232-8118c0e48a20"
      },
      "execution_count": null,
      "outputs": [
        {
          "output_type": "execute_result",
          "data": {
            "text/plain": [
              "1.6673446800650432e-08"
            ]
          },
          "metadata": {},
          "execution_count": 85
        }
      ]
    },
    {
      "cell_type": "code",
      "source": [
        "(np.abs(res_l1.x) < 1e-6).sum()"
      ],
      "metadata": {
        "colab": {
          "base_uri": "https://localhost:8080/"
        },
        "id": "Ux9CqgQO3rcM",
        "outputId": "945b86b2-8985-4d77-9400-61b969d8ff68"
      },
      "execution_count": null,
      "outputs": [
        {
          "output_type": "execute_result",
          "data": {
            "text/plain": [
              "0"
            ]
          },
          "metadata": {},
          "execution_count": 86
        }
      ]
    },
    {
      "cell_type": "code",
      "source": [
        "res_l1 = minimize(lambda x: f_l1(x,alpha=0.1),np.zeros_like(w_hat),tol=1e-10)"
      ],
      "metadata": {
        "id": "nV-xPR9WMVxJ"
      },
      "execution_count": null,
      "outputs": []
    },
    {
      "cell_type": "code",
      "source": [
        "(np.abs(res_l1.x) < 1e-6).sum()"
      ],
      "metadata": {
        "colab": {
          "base_uri": "https://localhost:8080/"
        },
        "id": "sCeXiQA1Mtdf",
        "outputId": "b13da210-579b-4222-a54a-2743f9036b8f"
      },
      "execution_count": null,
      "outputs": [
        {
          "output_type": "execute_result",
          "data": {
            "text/plain": [
              "3"
            ]
          },
          "metadata": {},
          "execution_count": 88
        }
      ]
    },
    {
      "cell_type": "code",
      "source": [
        "res_l1 = minimize(lambda x: f_l1(x,alpha=10.),np.zeros_like(w_hat),tol=1e-10)"
      ],
      "metadata": {
        "id": "ZwezGz1zNO7l"
      },
      "execution_count": null,
      "outputs": []
    },
    {
      "cell_type": "code",
      "source": [
        "(np.abs(res_l1.x) < 1e-6).sum()"
      ],
      "metadata": {
        "colab": {
          "base_uri": "https://localhost:8080/"
        },
        "id": "nD5VLgJq4MNd",
        "outputId": "885e3a3c-f922-4daa-c08f-99d0df7ab2e6"
      },
      "execution_count": null,
      "outputs": [
        {
          "output_type": "execute_result",
          "data": {
            "text/plain": [
              "5"
            ]
          },
          "metadata": {},
          "execution_count": 90
        }
      ]
    },
    {
      "cell_type": "markdown",
      "source": [
        "# The Gram–Schmidt process\n",
        "\n",
        "$V$ set of vectors we would like to orthogonalize.\n",
        "\n",
        "Basic algorithm:\n",
        "\n",
        "$u_1 = \\frac{v_1}{\\|v_1\\|}$\n",
        "\n",
        "$u_2 = v_2 - (v_2,u_1)u_1$, $u_2 = \\frac{u_2}{\\|u_2\\|}$\n",
        "\n",
        "...\n",
        "\n",
        "$u_N = v_N - (v_N,u_{N-1})u_{N-1} - ... - (v_N,u_1)u_1$, $u_N = \\frac{u_N}{\\|u_N\\|}$"
      ],
      "metadata": {
        "id": "q0FnHEueAubi"
      }
    },
    {
      "cell_type": "code",
      "source": [
        "import numpy as np"
      ],
      "metadata": {
        "id": "tQMR2gvcyLjR"
      },
      "execution_count": null,
      "outputs": []
    },
    {
      "cell_type": "code",
      "source": [
        "V = np.random.normal(size=(5,5))"
      ],
      "metadata": {
        "id": "X4wBhg82AuA6"
      },
      "execution_count": null,
      "outputs": []
    },
    {
      "cell_type": "code",
      "source": [
        "def simple_ortho(v):\n",
        "  u = np.copy(v)\n",
        "  for i in range(len(v)):\n",
        "    u[:,i+1:] -= v[:,i:i+1].T @ u[:,i+1:] * u[:,i:i+1]\n",
        "    u[:,i] /= np.linalg.norm(u[:,i])\n",
        "  return u"
      ],
      "metadata": {
        "id": "z4XBBdqoCEIi"
      },
      "execution_count": null,
      "outputs": []
    },
    {
      "cell_type": "code",
      "source": [
        "U = simple_ortho(V)"
      ],
      "metadata": {
        "id": "iYl241WxIJ44"
      },
      "execution_count": null,
      "outputs": []
    },
    {
      "cell_type": "code",
      "source": [
        "A = np.random.normal(size=(3,3))\n",
        "A[:,1:2] = A @ np.random.normal(size=(3,1))"
      ],
      "metadata": {
        "id": "TDy70pWn9Fd0"
      },
      "execution_count": null,
      "outputs": []
    },
    {
      "cell_type": "code",
      "source": [
        "Q,R = np.linalg.qr(A)"
      ],
      "metadata": {
        "id": "EXhGwt3R-OSG"
      },
      "execution_count": null,
      "outputs": []
    },
    {
      "cell_type": "code",
      "source": [
        "R"
      ],
      "metadata": {
        "colab": {
          "base_uri": "https://localhost:8080/"
        },
        "id": "BEZCMe9c-RxB",
        "outputId": "b893e430-6025-4bc4-dc6a-c6e82b1e7118"
      },
      "execution_count": null,
      "outputs": [
        {
          "output_type": "execute_result",
          "data": {
            "text/plain": [
              "array([[-1.03535947,  1.71497802,  1.55178398],\n",
              "       [ 0.        ,  0.54752739,  1.73103542],\n",
              "       [ 0.        ,  0.        ,  0.00512746]])"
            ]
          },
          "metadata": {},
          "execution_count": 25
        }
      ]
    },
    {
      "cell_type": "code",
      "source": [
        "np.abs(U @ U.T - np.eye(5)).mean()"
      ],
      "metadata": {
        "colab": {
          "base_uri": "https://localhost:8080/"
        },
        "id": "AOfSWxL0INaT",
        "outputId": "3205de9e-980e-41aa-e8b8-17a8ca4eb0d4"
      },
      "execution_count": null,
      "outputs": [
        {
          "output_type": "execute_result",
          "data": {
            "text/plain": [
              "0.7246949150073461"
            ]
          },
          "metadata": {},
          "execution_count": 7
        }
      ]
    },
    {
      "cell_type": "markdown",
      "source": [
        "Modified algorithm:\n",
        "\n",
        "Set $u = copy(v)$\n",
        "\n",
        "$u_1 = \\frac{u_1}{\\|u_1\\|}$\n",
        "\n",
        "$u_2 = v_2 - (v_2,u_1)u_1$, $u_2 = \\frac{u_2}{\\|u_2\\|}$\n",
        "\n",
        "...\n",
        "\n",
        "$u_N = v_N - (v_N,u_1)u_1$, ...,  $u_N = u_N - (u_N,u_{N-1})u_{N-1}$, $u_N = \\frac{u_N}{\\|u_N\\|}$"
      ],
      "metadata": {
        "id": "IcWmBsRnQ5HW"
      }
    },
    {
      "cell_type": "code",
      "source": [
        "def error_aware_ortho(v):\n",
        "  u = np.copy(v)\n",
        "  for i in range(len(v)):\n",
        "    u[:,i+1:] -= u[:,i:i+1].T @ u[:,i+1:] / np.linalg.norm(u[:,i])**2 * u[:,i:i+1]\n",
        "    u[:,i] /= np.linalg.norm(u[:,i])\n",
        "  return u"
      ],
      "metadata": {
        "id": "B_XU2fRaJOMA"
      },
      "execution_count": null,
      "outputs": []
    },
    {
      "cell_type": "code",
      "source": [
        "U_good = error_aware_ortho(V)"
      ],
      "metadata": {
        "id": "5dhkOJOKJu2u"
      },
      "execution_count": null,
      "outputs": []
    },
    {
      "cell_type": "code",
      "source": [
        "np.abs(U_good @ U_good.T - np.eye(5)).mean()"
      ],
      "metadata": {
        "colab": {
          "base_uri": "https://localhost:8080/"
        },
        "id": "qzIKlnUeJ00Y",
        "outputId": "a7241e02-094f-4826-9ba7-371d6fb6ad60"
      },
      "execution_count": null,
      "outputs": [
        {
          "output_type": "execute_result",
          "data": {
            "text/plain": [
              "9.331082644195687e-17"
            ]
          },
          "metadata": {},
          "execution_count": 10
        }
      ]
    },
    {
      "cell_type": "code",
      "source": [
        "(U_good.T @ V)[:3,:3]"
      ],
      "metadata": {
        "colab": {
          "base_uri": "https://localhost:8080/"
        },
        "id": "lSU7PEUcJ18e",
        "outputId": "7cf3c7a3-babe-4362-d5d8-6e8a2fa778a2"
      },
      "execution_count": null,
      "outputs": [
        {
          "output_type": "execute_result",
          "data": {
            "text/plain": [
              "array([[ 3.10316011e+00, -3.80696085e-01, -1.18223457e+00],\n",
              "       [ 5.93826128e-17,  1.92460561e+00,  1.44292069e+00],\n",
              "       [ 1.36393345e-16,  1.50014707e-17,  2.07764823e+00]])"
            ]
          },
          "metadata": {},
          "execution_count": 11
        }
      ]
    },
    {
      "cell_type": "code",
      "source": [],
      "metadata": {
        "id": "YHyAW8XuQo6n"
      },
      "execution_count": null,
      "outputs": []
    }
  ]
}