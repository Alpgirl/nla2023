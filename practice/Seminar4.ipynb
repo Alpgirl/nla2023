{
  "nbformat": 4,
  "nbformat_minor": 0,
  "metadata": {
    "colab": {
      "provenance": [],
      "gpuType": "T4"
    },
    "kernelspec": {
      "name": "python3",
      "display_name": "Python 3"
    },
    "language_info": {
      "name": "python"
    },
    "accelerator": "GPU"
  },
  "cells": [
    {
      "cell_type": "code",
      "execution_count": null,
      "metadata": {
        "id": "YUkaoiHRP-S9"
      },
      "outputs": [],
      "source": [
        "import numpy as np\n",
        "import matplotlib.pyplot as plt\n",
        "import torch\n",
        "from numba import jit"
      ]
    },
    {
      "cell_type": "markdown",
      "source": [
        "# Locality of reference"
      ],
      "metadata": {
        "id": "bLW1ypubcLFC"
      }
    },
    {
      "cell_type": "markdown",
      "source": [
        "Numba: https://numba.pydata.org/numba-doc/latest/user/jit.html#nopython"
      ],
      "metadata": {
        "id": "YHy1AbfirFAW"
      }
    },
    {
      "cell_type": "code",
      "source": [
        "@jit(nopython=True)\n",
        "def matmul(a, b):\n",
        "    n = a.shape[0]\n",
        "    k = a.shape[1]\n",
        "    m = b.shape[1]\n",
        "    c = np.zeros((n, m))\n",
        "    for i in range(n):\n",
        "      for j in range(m):\n",
        "        for s in range(k):\n",
        "            c[i, j] += a[i, s] * b[s, j]\n",
        "\n",
        "    return c"
      ],
      "metadata": {
        "id": "O-wNwfWGQTGD"
      },
      "execution_count": null,
      "outputs": []
    },
    {
      "cell_type": "code",
      "source": [
        "@jit(nopython=True)\n",
        "def new_matmul(a, b):\n",
        "    n = a.shape[0]\n",
        "    k = a.shape[1]\n",
        "    m = b.shape[1]\n",
        "    c = np.zeros((n, m))\n",
        "    for i in range(n):\n",
        "      for s in range(k):\n",
        "        for j in range(m):\n",
        "          c[i,j] += a[i,s] * b[s,j]\n",
        "\n",
        "    return c"
      ],
      "metadata": {
        "id": "K5AESPsZQpae"
      },
      "execution_count": null,
      "outputs": []
    },
    {
      "cell_type": "code",
      "source": [
        "n=3\n",
        "a = np.random.randn(n, n)\n",
        "b = np.random.randn(n, n)\n",
        "matmul(a,b), new_matmul(a,b)"
      ],
      "metadata": {
        "id": "MVCAQgaAR8Hv",
        "colab": {
          "base_uri": "https://localhost:8080/"
        },
        "outputId": "ddac9936-bcd4-4c3e-cdea-091b67d0cdb5"
      },
      "execution_count": null,
      "outputs": [
        {
          "output_type": "execute_result",
          "data": {
            "text/plain": [
              "(array([[-0.30810568, -0.63900952,  1.95022127],\n",
              "        [-0.09233397,  0.44935688, -1.43160293],\n",
              "        [ 1.29714571,  1.1222406 , -3.37501124]]),\n",
              " array([[-0.30810568, -0.63900952,  1.95022127],\n",
              "        [-0.09233397,  0.44935688, -1.43160293],\n",
              "        [ 1.29714571,  1.1222406 , -3.37501124]]))"
            ]
          },
          "metadata": {},
          "execution_count": 4
        }
      ]
    },
    {
      "cell_type": "code",
      "source": [
        "n=100\n",
        "a = np.random.randn(n, n)\n",
        "b = np.random.randn(n, n)\n",
        "np.allclose(matmul(a,b), new_matmul(a,b))"
      ],
      "metadata": {
        "colab": {
          "base_uri": "https://localhost:8080/"
        },
        "id": "JIS9K6_-bL9L",
        "outputId": "301817f1-9623-4f1c-883b-5aee673588c9"
      },
      "execution_count": null,
      "outputs": [
        {
          "output_type": "execute_result",
          "data": {
            "text/plain": [
              "True"
            ]
          },
          "metadata": {},
          "execution_count": 5
        }
      ]
    },
    {
      "cell_type": "code",
      "source": [
        "%timeit new_matmul(a,b)"
      ],
      "metadata": {
        "colab": {
          "base_uri": "https://localhost:8080/"
        },
        "id": "5gsvDJUnlkuR",
        "outputId": "3e15042a-b711-4f16-8a1e-998757b2e754"
      },
      "execution_count": null,
      "outputs": [
        {
          "output_type": "stream",
          "name": "stdout",
          "text": [
            "387 µs ± 164 µs per loop (mean ± std. dev. of 7 runs, 1000 loops each)\n"
          ]
        }
      ]
    },
    {
      "cell_type": "code",
      "source": [
        "%timeit matmul(a,b)"
      ],
      "metadata": {
        "colab": {
          "base_uri": "https://localhost:8080/"
        },
        "id": "nB1mODPRkoxu",
        "outputId": "7fed9770-c348-4f0a-e3a0-01331c0a2917"
      },
      "execution_count": null,
      "outputs": [
        {
          "output_type": "stream",
          "name": "stdout",
          "text": [
            "1.73 ms ± 417 µs per loop (mean ± std. dev. of 7 runs, 1000 loops each)\n"
          ]
        }
      ]
    },
    {
      "cell_type": "code",
      "source": [
        "dim_range = range(500, 1100, 100)\n",
        "time_range_matmul = []\n",
        "time_range_new_matmul = []\n",
        "for n in dim_range:\n",
        "    print(\"Dimension = {}\".format(n))\n",
        "    a = np.random.randn(n, n)\n",
        "    b = np.random.randn(n, n)\n",
        "\n",
        "    t = %timeit -o -q matmul(a, b)\n",
        "    time_range_matmul.append(t.average)\n",
        "\n",
        "    t = %timeit -o -q new_matmul(a, b)\n",
        "    time_range_new_matmul.append(t.average)"
      ],
      "metadata": {
        "colab": {
          "base_uri": "https://localhost:8080/"
        },
        "id": "Efo3KosuQZJe",
        "outputId": "55145383-300e-49e8-f8ee-c9495633c5f8"
      },
      "execution_count": null,
      "outputs": [
        {
          "output_type": "stream",
          "name": "stdout",
          "text": [
            "Dimension = 500\n",
            "Dimension = 600\n",
            "Dimension = 700\n",
            "Dimension = 800\n",
            "Dimension = 900\n",
            "Dimension = 1000\n"
          ]
        }
      ]
    },
    {
      "cell_type": "code",
      "source": [
        "plt.plot(dim_range, time_range_matmul, label=\"Matmul\")\n",
        "plt.plot(dim_range, time_range_new_matmul, label=\"New Matmul\")\n",
        "plt.legend(fontsize=18)\n",
        "plt.xlabel(\"Dimension\", fontsize=18)\n",
        "plt.ylabel(\"Time\", fontsize=18)\n",
        "plt.yscale(\"log\")"
      ],
      "metadata": {
        "colab": {
          "base_uri": "https://localhost:8080/",
          "height": 459
        },
        "id": "3RwYuXU5QdAY",
        "outputId": "354fd7bc-f75a-42f7-d2b7-848ec43da99d"
      },
      "execution_count": null,
      "outputs": [
        {
          "output_type": "display_data",
          "data": {
            "text/plain": [
              "<Figure size 640x480 with 1 Axes>"
            ],
            "image/png": "[encoded data removed]"
          },
          "metadata": {}
        }
      ]
    },
    {
      "cell_type": "markdown",
      "source": [
        "Explanation: https://en.wikipedia.org/wiki/Locality_of_reference#Matrix_multiplication"
      ],
      "metadata": {
        "id": "EeoChO2sjQVO"
      }
    },
    {
      "cell_type": "markdown",
      "source": [
        "# CUDA"
      ],
      "metadata": {
        "id": "mFZ9lOlGdwnJ"
      }
    },
    {
      "cell_type": "code",
      "source": [
        "torch.cuda.is_available()"
      ],
      "metadata": {
        "colab": {
          "base_uri": "https://localhost:8080/"
        },
        "id": "U7cbvqIegWsr",
        "outputId": "4a470f06-9b19-46f5-f31d-61ec0335595e"
      },
      "execution_count": null,
      "outputs": [
        {
          "output_type": "execute_result",
          "data": {
            "text/plain": [
              "True"
            ]
          },
          "metadata": {},
          "execution_count": 10
        }
      ]
    },
    {
      "cell_type": "code",
      "source": [
        "device = torch.device(\"cuda\" if torch.cuda.is_available() else \"cpu\")\n",
        "device"
      ],
      "metadata": {
        "colab": {
          "base_uri": "https://localhost:8080/"
        },
        "id": "ZmRlGoHsgdM4",
        "outputId": "06d2ca69-4ac7-4e24-e61f-87cc9d5c4e33"
      },
      "execution_count": null,
      "outputs": [
        {
          "output_type": "execute_result",
          "data": {
            "text/plain": [
              "device(type='cuda')"
            ]
          },
          "metadata": {},
          "execution_count": 11
        }
      ]
    },
    {
      "cell_type": "code",
      "source": [
        "a = torch.randn(n, n, device='cuda')\n",
        "a = torch.randn(n, n).to(device)\n",
        "a = torch.randn(n, n).cuda()"
      ],
      "metadata": {
        "id": "ONKFFNI4gg8K"
      },
      "execution_count": null,
      "outputs": []
    },
    {
      "cell_type": "code",
      "source": [
        "a = torch.randn((100,1000),device=\"cuda\")\n",
        "b = torch.randn((1000,100),device=\"cpu\")\n",
        "a @ b"
      ],
      "metadata": {
        "colab": {
          "base_uri": "https://localhost:8080/",
          "height": 228
        },
        "id": "nNG0K0DNg1Pl",
        "outputId": "e8bfe409-05ea-4dba-fb0c-de10ac7e9a53"
      },
      "execution_count": null,
      "outputs": [
        {
          "output_type": "error",
          "ename": "RuntimeError",
          "evalue": "ignored",
          "traceback": [
            "\u001b[0;31m---------------------------------------------------------------------------\u001b[0m",
            "\u001b[0;31mRuntimeError\u001b[0m                              Traceback (most recent call last)",
            "\u001b[0;32m<ipython-input-2-2fffadab7a1d>\u001b[0m in \u001b[0;36m<cell line: 3>\u001b[0;34m()\u001b[0m\n\u001b[1;32m      1\u001b[0m \u001b[0ma\u001b[0m \u001b[0;34m=\u001b[0m \u001b[0mtorch\u001b[0m\u001b[0;34m.\u001b[0m\u001b[0mrandn\u001b[0m\u001b[0;34m(\u001b[0m\u001b[0;34m(\u001b[0m\u001b[0;36m100\u001b[0m\u001b[0;34m,\u001b[0m\u001b[0;36m1000\u001b[0m\u001b[0;34m)\u001b[0m\u001b[0;34m,\u001b[0m\u001b[0mdevice\u001b[0m\u001b[0;34m=\u001b[0m\u001b[0;34m\"cuda\"\u001b[0m\u001b[0;34m)\u001b[0m\u001b[0;34m\u001b[0m\u001b[0;34m\u001b[0m\u001b[0m\n\u001b[1;32m      2\u001b[0m \u001b[0mb\u001b[0m \u001b[0;34m=\u001b[0m \u001b[0mtorch\u001b[0m\u001b[0;34m.\u001b[0m\u001b[0mrandn\u001b[0m\u001b[0;34m(\u001b[0m\u001b[0;34m(\u001b[0m\u001b[0;36m1000\u001b[0m\u001b[0;34m,\u001b[0m\u001b[0;36m100\u001b[0m\u001b[0;34m)\u001b[0m\u001b[0;34m,\u001b[0m\u001b[0mdevice\u001b[0m\u001b[0;34m=\u001b[0m\u001b[0;34m\"cpu\"\u001b[0m\u001b[0;34m)\u001b[0m\u001b[0;34m\u001b[0m\u001b[0;34m\u001b[0m\u001b[0m\n\u001b[0;32m----> 3\u001b[0;31m \u001b[0ma\u001b[0m \u001b[0;34m@\u001b[0m \u001b[0mb\u001b[0m\u001b[0;34m\u001b[0m\u001b[0;34m\u001b[0m\u001b[0m\n\u001b[0m",
            "\u001b[0;31mRuntimeError\u001b[0m: Expected all tensors to be on the same device, but found at least two devices, cuda:0 and cpu! (when checking argument for argument mat2 in method wrapper_CUDA_mm)"
          ]
        }
      ]
    },
    {
      "cell_type": "code",
      "source": [
        "n=1000\n",
        "torch.manual_seed(42)\n",
        "a = torch.randn(n, n)\n",
        "b = torch.randn(n, n)"
      ],
      "metadata": {
        "id": "BkCakuozg59J"
      },
      "execution_count": null,
      "outputs": []
    },
    {
      "cell_type": "code",
      "source": [
        "%timeit a @ b"
      ],
      "metadata": {
        "colab": {
          "base_uri": "https://localhost:8080/"
        },
        "id": "RZ0ul_tdg6fV",
        "outputId": "8d9c6068-8943-41e9-9bcf-b7ee9e5dd0ad"
      },
      "execution_count": null,
      "outputs": [
        {
          "output_type": "stream",
          "name": "stdout",
          "text": [
            "69.6 ms ± 16.6 ms per loop (mean ± std. dev. of 7 runs, 10 loops each)\n"
          ]
        }
      ]
    },
    {
      "cell_type": "code",
      "source": [
        "n=1000\n",
        "torch.manual_seed(42)\n",
        "a = torch.randn(n, n, device='cuda')\n",
        "b = torch.randn(n, n, device='cuda')"
      ],
      "metadata": {
        "id": "U-UMrIR0o9y4"
      },
      "execution_count": null,
      "outputs": []
    },
    {
      "cell_type": "code",
      "source": [
        "%timeit a @ b"
      ],
      "metadata": {
        "colab": {
          "base_uri": "https://localhost:8080/"
        },
        "id": "t6dt12jspmUm",
        "outputId": "d1361058-6b7d-4cf5-c898-58a99e7aa215"
      },
      "execution_count": null,
      "outputs": [
        {
          "output_type": "stream",
          "name": "stdout",
          "text": [
            "668 µs ± 14.3 µs per loop (mean ± std. dev. of 7 runs, 1000 loops each)\n"
          ]
        }
      ]
    },
    {
      "cell_type": "markdown",
      "source": [
        "# Powers of 2"
      ],
      "metadata": {
        "id": "4QELSQFxefoN"
      }
    },
    {
      "cell_type": "code",
      "source": [
        "n = 2**10\n",
        "a = torch.randn(n, n, device='cuda')\n",
        "b = torch.randn(n, n, device='cuda')"
      ],
      "metadata": {
        "id": "rqOanzYneUzK"
      },
      "execution_count": null,
      "outputs": []
    },
    {
      "cell_type": "code",
      "source": [
        "%timeit a @ b"
      ],
      "metadata": {
        "colab": {
          "base_uri": "https://localhost:8080/"
        },
        "id": "HhtdP7fqelY5",
        "outputId": "0aa4be96-c659-4c73-e485-79f117ad4d4d"
      },
      "execution_count": null,
      "outputs": [
        {
          "output_type": "stream",
          "name": "stdout",
          "text": [
            "688 µs ± 14.9 µs per loop (mean ± std. dev. of 7 runs, 1000 loops each)\n"
          ]
        }
      ]
    },
    {
      "cell_type": "code",
      "source": [
        "n = 2**10 -2\n",
        "a = torch.randn(n, n, device='cuda')\n",
        "b = torch.randn(n, n, device='cuda')"
      ],
      "metadata": {
        "id": "Xa2oKVU8el1D"
      },
      "execution_count": null,
      "outputs": []
    },
    {
      "cell_type": "code",
      "source": [
        "%timeit a @ b"
      ],
      "metadata": {
        "colab": {
          "base_uri": "https://localhost:8080/"
        },
        "id": "45PUMEeseqCr",
        "outputId": "83fe635b-9ecd-4924-c114-746398245b11"
      },
      "execution_count": null,
      "outputs": [
        {
          "output_type": "stream",
          "name": "stdout",
          "text": [
            "724 µs ± 7.29 µs per loop (mean ± std. dev. of 7 runs, 1000 loops each)\n"
          ]
        }
      ]
    },
    {
      "cell_type": "code",
      "source": [],
      "metadata": {
        "id": "hRr4zz_9erTm"
      },
      "execution_count": null,
      "outputs": []
    },
    {
      "cell_type": "code",
      "source": [],
      "metadata": {
        "id": "ctDLgGRNkxMR"
      },
      "execution_count": null,
      "outputs": []
    }
  ]
}